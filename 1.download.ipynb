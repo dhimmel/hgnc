{
 "cells": [
  {
   "cell_type": "markdown",
   "metadata": {},
   "source": [
    "# Download HGNC datasets"
   ]
  },
  {
   "cell_type": "code",
   "execution_count": 1,
   "metadata": {
    "collapsed": true
   },
   "outputs": [],
   "source": [
    "import os\n",
    "import ftplib\n",
    "import datetime"
   ]
  },
  {
   "cell_type": "code",
   "execution_count": 2,
   "metadata": {
    "collapsed": false
   },
   "outputs": [],
   "source": [
    "def download_file(ftp, ftp_path, local_path):\n",
    "    \"\"\"\n",
    "    Download a file from an open ftp connection.\n",
    "    Returns the ISO formatted last modified time.\n",
    "    \"\"\"\n",
    "    # Get last modified datetime\n",
    "    modified_time = ftp.sendcmd('MDTM ' + ftp_path)\n",
    "    modified_time = datetime.datetime.strptime(modified_time[4:], \"%Y%m%d%H%M%S\")\n",
    "    modified_time = modified_time.isoformat()\n",
    "    \n",
    "    # Download remote file to local path\n",
    "    with open(local_path, 'wb') as write_file:\n",
    "        ftp.retrbinary('RETR '+ ftp_path, write_file.write)\n",
    "    \n",
    "    return modified_time\n",
    "\n",
    "def download_files_in_directory(ftp, ftp_directory, local_directory):\n",
    "    \"\"\"\n",
    "    Download all files from a remote ftp directory to a local directory.\n",
    "    Prints filenames and their last modified dates.\n",
    "    \"\"\"\n",
    "    os.makedirs(local_directory, exist_ok=True)\n",
    "    for ftp_path in ftp.nlst(ftp_directory):\n",
    "        _, filename = os.path.split(ftp_path)\n",
    "        local_path = os.path.join(local_directory, filename)\n",
    "        modified_time = download_file(ftp, ftp_path, local_path)\n",
    "        print(modified_time , filename)"
   ]
  },
  {
   "cell_type": "markdown",
   "metadata": {},
   "source": [
    "## Connect to EBI FTP site"
   ]
  },
  {
   "cell_type": "code",
   "execution_count": 3,
   "metadata": {
    "collapsed": false
   },
   "outputs": [
    {
     "data": {
      "text/plain": [
       "'230 Login successful.'"
      ]
     },
     "execution_count": 3,
     "metadata": {},
     "output_type": "execute_result"
    }
   ],
   "source": [
    "ftp = ftplib.FTP('ftp.ebi.ac.uk')\n",
    "ftp.login()"
   ]
  },
  {
   "cell_type": "markdown",
   "metadata": {},
   "source": [
    "## Download gene family data"
   ]
  },
  {
   "cell_type": "code",
   "execution_count": 4,
   "metadata": {
    "collapsed": false
   },
   "outputs": [
    {
     "name": "stdout",
     "output_type": "stream",
     "text": [
      "2016-07-13T16:22:11 README.txt\n",
      "2017-01-25T06:13:11 external_resource.csv\n",
      "2017-01-25T06:13:11 family.csv\n",
      "2017-01-25T06:13:11 family_has_external_resource.csv\n",
      "2017-01-25T06:13:11 gene_has_family.csv\n",
      "2017-01-25T06:13:11 hierarchy.csv\n",
      "2017-01-25T06:13:11 hierarchy_closure.csv\n"
     ]
    }
   ],
   "source": [
    "ftp_directory = '/pub/databases/genenames/new/csv/genefamily_db_tables'\n",
    "local_directory = os.path.join('download', 'genefamily_db_tables')\n",
    "download_files_in_directory(ftp, ftp_directory, local_directory)"
   ]
  },
  {
   "cell_type": "markdown",
   "metadata": {},
   "source": [
    "## Download gene table"
   ]
  },
  {
   "cell_type": "code",
   "execution_count": 5,
   "metadata": {
    "collapsed": false
   },
   "outputs": [
    {
     "data": {
      "text/plain": [
       "'2017-01-25T05:53:32'"
      ]
     },
     "execution_count": 5,
     "metadata": {},
     "output_type": "execute_result"
    }
   ],
   "source": [
    "filename = 'hgnc_complete_set.txt'\n",
    "ftp_path = '/pub/databases/genenames/new/tsv/' + filename\n",
    "local_path =  os.path.join('download', filename)\n",
    "download_file(ftp, ftp_path, local_path)"
   ]
  },
  {
   "cell_type": "markdown",
   "metadata": {},
   "source": [
    "## Close FTP connection"
   ]
  },
  {
   "cell_type": "code",
   "execution_count": 6,
   "metadata": {
    "collapsed": false
   },
   "outputs": [
    {
     "data": {
      "text/plain": [
       "'221 Goodbye.'"
      ]
     },
     "execution_count": 6,
     "metadata": {},
     "output_type": "execute_result"
    }
   ],
   "source": [
    "ftp.quit()"
   ]
  }
 ],
 "metadata": {
  "anaconda-cloud": {},
  "kernelspec": {
   "display_name": "Python [default]",
   "language": "python",
   "name": "python3"
  },
  "language_info": {
   "codemirror_mode": {
    "name": "ipython",
    "version": 3
   },
   "file_extension": ".py",
   "mimetype": "text/x-python",
   "name": "python",
   "nbconvert_exporter": "python",
   "pygments_lexer": "ipython3",
   "version": "3.5.2"
  }
 },
 "nbformat": 4,
 "nbformat_minor": 1
}
