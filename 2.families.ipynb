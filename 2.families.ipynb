{
 "cells": [
  {
   "cell_type": "markdown",
   "metadata": {},
   "source": [
    "# Create a gene family network and Entrez Gene mapping"
   ]
  },
  {
   "cell_type": "code",
   "execution_count": 1,
   "metadata": {
    "collapsed": false
   },
   "outputs": [],
   "source": [
    "import pandas\n",
    "import networkx"
   ]
  },
  {
   "cell_type": "code",
   "execution_count": 2,
   "metadata": {
    "collapsed": false
   },
   "outputs": [
    {
     "data": {
      "text/html": [
       "<div>\n",
       "<table border=\"1\" class=\"dataframe\">\n",
       "  <thead>\n",
       "    <tr style=\"text-align: right;\">\n",
       "      <th></th>\n",
       "      <th>entrez_id</th>\n",
       "      <th>symbol</th>\n",
       "      <th>name</th>\n",
       "      <th>locus_group</th>\n",
       "      <th>gene_family_id</th>\n",
       "    </tr>\n",
       "  </thead>\n",
       "  <tbody>\n",
       "    <tr>\n",
       "      <th>0</th>\n",
       "      <td>1</td>\n",
       "      <td>A1BG</td>\n",
       "      <td>alpha-1-B glycoprotein</td>\n",
       "      <td>protein-coding gene</td>\n",
       "      <td>594</td>\n",
       "    </tr>\n",
       "    <tr>\n",
       "      <th>2</th>\n",
       "      <td>29974</td>\n",
       "      <td>A1CF</td>\n",
       "      <td>APOBEC1 complementation factor</td>\n",
       "      <td>protein-coding gene</td>\n",
       "      <td>725</td>\n",
       "    </tr>\n",
       "    <tr>\n",
       "      <th>3</th>\n",
       "      <td>2</td>\n",
       "      <td>A2M</td>\n",
       "      <td>alpha-2-macroglobulin</td>\n",
       "      <td>protein-coding gene</td>\n",
       "      <td>1234</td>\n",
       "    </tr>\n",
       "    <tr>\n",
       "      <th>5</th>\n",
       "      <td>144568</td>\n",
       "      <td>A2ML1</td>\n",
       "      <td>alpha-2-macroglobulin like 1</td>\n",
       "      <td>protein-coding gene</td>\n",
       "      <td>1234</td>\n",
       "    </tr>\n",
       "    <tr>\n",
       "      <th>9</th>\n",
       "      <td>127550</td>\n",
       "      <td>A3GALT2</td>\n",
       "      <td>alpha 1,3-galactosyltransferase 2</td>\n",
       "      <td>protein-coding gene</td>\n",
       "      <td>429</td>\n",
       "    </tr>\n",
       "  </tbody>\n",
       "</table>\n",
       "</div>"
      ],
      "text/plain": [
       "   entrez_id   symbol                               name          locus_group  \\\n",
       "0          1     A1BG             alpha-1-B glycoprotein  protein-coding gene   \n",
       "2      29974     A1CF     APOBEC1 complementation factor  protein-coding gene   \n",
       "3          2      A2M              alpha-2-macroglobulin  protein-coding gene   \n",
       "5     144568    A2ML1       alpha-2-macroglobulin like 1  protein-coding gene   \n",
       "9     127550  A3GALT2  alpha 1,3-galactosyltransferase 2  protein-coding gene   \n",
       "\n",
       "  gene_family_id  \n",
       "0            594  \n",
       "2            725  \n",
       "3           1234  \n",
       "5           1234  \n",
       "9            429  "
      ]
     },
     "execution_count": 2,
     "metadata": {},
     "output_type": "execute_result"
    }
   ],
   "source": [
    "hgnc_df = (pandas.read_table('download/hgnc_complete_set.txt', low_memory=False)\n",
    "    .dropna(subset=['entrez_id', 'gene_family_id'])\n",
    "    .astype({'entrez_id': int})\n",
    "    [['entrez_id', 'symbol', 'name', 'locus_group', 'gene_family_id']]\n",
    ")\n",
    "entrez_id_to_symbol = dict(zip(hgnc_df.entrez_id, hgnc_df.symbol))\n",
    "hgnc_df.head()"
   ]
  },
  {
   "cell_type": "code",
   "execution_count": 3,
   "metadata": {
    "collapsed": false
   },
   "outputs": [
    {
     "data": {
      "text/plain": [
       "Index(['entrez_id', 'symbol', 'name', 'locus_group', 'gene_family_id'], dtype='object')"
      ]
     },
     "execution_count": 3,
     "metadata": {},
     "output_type": "execute_result"
    }
   ],
   "source": [
    "hgnc_df.columns"
   ]
  },
  {
   "cell_type": "code",
   "execution_count": 4,
   "metadata": {
    "collapsed": false
   },
   "outputs": [
    {
     "data": {
      "text/html": [
       "<div>\n",
       "<table border=\"1\" class=\"dataframe\">\n",
       "  <thead>\n",
       "    <tr style=\"text-align: right;\">\n",
       "      <th></th>\n",
       "      <th>id</th>\n",
       "      <th>abbreviation</th>\n",
       "      <th>name</th>\n",
       "    </tr>\n",
       "  </thead>\n",
       "  <tbody>\n",
       "    <tr>\n",
       "      <th>0</th>\n",
       "      <td>905</td>\n",
       "      <td>ANGPTL</td>\n",
       "      <td>Angiopoietin like</td>\n",
       "    </tr>\n",
       "    <tr>\n",
       "      <th>1</th>\n",
       "      <td>222</td>\n",
       "      <td>NaN</td>\n",
       "      <td>Bombesin receptors</td>\n",
       "    </tr>\n",
       "    <tr>\n",
       "      <th>2</th>\n",
       "      <td>767</td>\n",
       "      <td>TCTN</td>\n",
       "      <td>Tectonic proteins</td>\n",
       "    </tr>\n",
       "    <tr>\n",
       "      <th>3</th>\n",
       "      <td>550</td>\n",
       "      <td>FABP</td>\n",
       "      <td>Fatty acid binding protein family</td>\n",
       "    </tr>\n",
       "    <tr>\n",
       "      <th>4</th>\n",
       "      <td>1317</td>\n",
       "      <td>NaN</td>\n",
       "      <td>Carcinoembryonic antigen family</td>\n",
       "    </tr>\n",
       "  </tbody>\n",
       "</table>\n",
       "</div>"
      ],
      "text/plain": [
       "     id abbreviation                               name\n",
       "0   905       ANGPTL                  Angiopoietin like\n",
       "1   222          NaN                 Bombesin receptors\n",
       "2   767         TCTN                  Tectonic proteins\n",
       "3   550         FABP  Fatty acid binding protein family\n",
       "4  1317          NaN    Carcinoembryonic antigen family"
      ]
     },
     "execution_count": 4,
     "metadata": {},
     "output_type": "execute_result"
    }
   ],
   "source": [
    "family_df = (\n",
    "    pandas.read_csv('download/genefamily_db_tables/family.csv')\n",
    "    [['id', 'abbreviation', 'name']]\n",
    ")\n",
    "family_df.head()"
   ]
  },
  {
   "cell_type": "code",
   "execution_count": 5,
   "metadata": {
    "collapsed": false
   },
   "outputs": [
    {
     "data": {
      "text/plain": [
       "True"
      ]
     },
     "execution_count": 5,
     "metadata": {},
     "output_type": "execute_result"
    }
   ],
   "source": [
    "families = networkx.DiGraph()\n",
    "\n",
    "# Nodes\n",
    "for row in family_df.itertuples():\n",
    "    families.add_node(row.id, name=row.name, entrez_gene_ids=set())\n",
    "\n",
    "# Edges (from superfamily to subfamily)\n",
    "df = pandas.read_csv('download/genefamily_db_tables/hierarchy.csv')\n",
    "for row in df.itertuples():\n",
    "    families.add_edge(row.parent_fam_id, row.child_fam_id)\n",
    "\n",
    "networkx.is_directed_acyclic_graph(families)"
   ]
  },
  {
   "cell_type": "code",
   "execution_count": 6,
   "metadata": {
    "collapsed": true
   },
   "outputs": [],
   "source": [
    "for node, data in families.nodes(data=True):\n",
    "    data['root'] = families.in_degree(node) == 0\n",
    "    data['leaf'] = families.out_degree(node) == 0"
   ]
  },
  {
   "cell_type": "code",
   "execution_count": 7,
   "metadata": {
    "collapsed": false
   },
   "outputs": [],
   "source": [
    "root_nodes = [n for n, d in families.in_degree().items() if d == 0]\n",
    "root_df = family_df.query(\"id in @root_nodes\")"
   ]
  },
  {
   "cell_type": "code",
   "execution_count": 8,
   "metadata": {
    "collapsed": false
   },
   "outputs": [],
   "source": [
    "# Add propaged entrez gene IDs\n",
    "for row in hgnc_df.itertuples():\n",
    "    for family_id in row.gene_family_id.split('|'):\n",
    "        family_id = int(family_id)\n",
    "        for family_id in {family_id} | networkx.ancestors(families, family_id):\n",
    "            node_data = families.node[family_id]\n",
    "            entrez_id = int(row.entrez_id)\n",
    "            node_data['entrez_gene_ids'].add(entrez_id)"
   ]
  },
  {
   "cell_type": "code",
   "execution_count": 9,
   "metadata": {
    "collapsed": false
   },
   "outputs": [
    {
     "data": {
      "text/html": [
       "<div>\n",
       "<table border=\"1\" class=\"dataframe\">\n",
       "  <thead>\n",
       "    <tr style=\"text-align: right;\">\n",
       "      <th></th>\n",
       "      <th>family_id</th>\n",
       "      <th>family_name</th>\n",
       "      <th>root</th>\n",
       "      <th>leaf</th>\n",
       "      <th>entrez_gene_id</th>\n",
       "      <th>gene_symbol</th>\n",
       "    </tr>\n",
       "  </thead>\n",
       "  <tbody>\n",
       "    <tr>\n",
       "      <th>0</th>\n",
       "      <td>3</td>\n",
       "      <td>Fascins</td>\n",
       "      <td>1</td>\n",
       "      <td>1</td>\n",
       "      <td>6624</td>\n",
       "      <td>FSCN1</td>\n",
       "    </tr>\n",
       "    <tr>\n",
       "      <th>1</th>\n",
       "      <td>3</td>\n",
       "      <td>Fascins</td>\n",
       "      <td>1</td>\n",
       "      <td>1</td>\n",
       "      <td>25794</td>\n",
       "      <td>FSCN2</td>\n",
       "    </tr>\n",
       "    <tr>\n",
       "      <th>2</th>\n",
       "      <td>3</td>\n",
       "      <td>Fascins</td>\n",
       "      <td>1</td>\n",
       "      <td>1</td>\n",
       "      <td>29999</td>\n",
       "      <td>FSCN3</td>\n",
       "    </tr>\n",
       "  </tbody>\n",
       "</table>\n",
       "</div>"
      ],
      "text/plain": [
       "   family_id family_name  root  leaf  entrez_gene_id gene_symbol\n",
       "0          3     Fascins     1     1            6624       FSCN1\n",
       "1          3     Fascins     1     1           25794       FSCN2\n",
       "2          3     Fascins     1     1           29999       FSCN3"
      ]
     },
     "execution_count": 9,
     "metadata": {},
     "output_type": "execute_result"
    }
   ],
   "source": [
    "rows = list()\n",
    "for family_id, data in families.nodes(data=True):\n",
    "    entrez_gene_ids = sorted(data['entrez_gene_ids'])\n",
    "    for entrez_gene_id in entrez_gene_ids:\n",
    "        rows.append([family_id, data['name'], int(data['root']), int(data['leaf']), entrez_gene_id, entrez_id_to_symbol[entrez_gene_id]])\n",
    "    # Convert entrez_gene_ids to a string for GraphML export\n",
    "    data['entrez_gene_ids'] = '|'.join(map(str, entrez_gene_ids))\n",
    "columns = ['family_id', 'family_name', 'root', 'leaf', 'entrez_gene_id', 'gene_symbol']\n",
    "mapping_df = pandas.DataFrame(rows, columns=columns).sort_values(['family_id', 'entrez_gene_id'])\n",
    "mapping_df.head(3)"
   ]
  },
  {
   "cell_type": "code",
   "execution_count": 10,
   "metadata": {
    "collapsed": false
   },
   "outputs": [],
   "source": [
    "# Write family graph to GraphML (XML format)\n",
    "networkx.write_graphml(families, 'data/families.graphml')"
   ]
  },
  {
   "cell_type": "code",
   "execution_count": 11,
   "metadata": {
    "collapsed": true
   },
   "outputs": [],
   "source": [
    "# Export family to gene mapping to TSV\n",
    "mapping_df.to_csv('data/gene-families.tsv', sep='\\t', index=False)"
   ]
  }
 ],
 "metadata": {
  "kernelspec": {
   "display_name": "Python [default]",
   "language": "python",
   "name": "python3"
  },
  "language_info": {
   "codemirror_mode": {
    "name": "ipython",
    "version": 3
   },
   "file_extension": ".py",
   "mimetype": "text/x-python",
   "name": "python",
   "nbconvert_exporter": "python",
   "pygments_lexer": "ipython3",
   "version": "3.5.2"
  }
 },
 "nbformat": 4,
 "nbformat_minor": 1
}
